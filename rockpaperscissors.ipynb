{
 "cells": [
  {
   "cell_type": "code",
   "execution_count": 4,
   "id": "fa4074a6",
   "metadata": {},
   "outputs": [
    {
     "name": "stdout",
     "output_type": "stream",
     "text": [
      "Enter your choice- 'rock', 'paper' or 'scissors': rrr\n",
      "rrr\n"
     ]
    }
   ],
   "source": [
    "import random\n",
    "#while true: \n",
    "user = input(\"Enter your choice- 'rock', 'paper' or 'scissors': \").lower()\n",
    "print (user)"
   ]
  },
  {
   "cell_type": "code",
   "execution_count": 5,
   "id": "342f883b",
   "metadata": {},
   "outputs": [
    {
     "name": "stdout",
     "output_type": "stream",
     "text": [
      "You typed an invalid answer, try again: rock\n"
     ]
    }
   ],
   "source": [
    "while user != \"rock\" and user != \"paper\" and user != \"scissors\":\n",
    "    user = input(\"You typed an invalid answer, try again: \").lower()"
   ]
  },
  {
   "cell_type": "code",
   "execution_count": 6,
   "id": "3e14af85",
   "metadata": {},
   "outputs": [
    {
     "name": "stdout",
     "output_type": "stream",
     "text": [
      "paper\n"
     ]
    }
   ],
   "source": [
    "    option=[\"rock\",\"paper\",\"scissors\"]\n",
    "    pc = random.choice(option)\n",
    "    print (pc)"
   ]
  },
  {
   "cell_type": "code",
   "execution_count": 7,
   "id": "700189d3",
   "metadata": {},
   "outputs": [
    {
     "name": "stdout",
     "output_type": "stream",
     "text": [
      "The user has lost\n"
     ]
    }
   ],
   "source": [
    "  #repeat of above but with added detail\n",
    "    #works\n",
    "    #while true: \n",
    "   # try\n",
    "if user == \"rock\" :\n",
    "    if pc == \"paper\" :\n",
    "        print (\"The user has lost\")\n",
    "    elif user == \"rock\" and pc == \"scissors\":\n",
    "        print (\"The user has won\")\n",
    "    elif user == \"rock\" and pc == \"rock\":\n",
    "        print (\"Its a draw\")\n",
    "    "
   ]
  },
  {
   "cell_type": "code",
   "execution_count": 8,
   "id": "f290affe",
   "metadata": {},
   "outputs": [],
   "source": [
    "    \n",
    "if user == \"paper\":\n",
    "    if pc ==\"rock\":\n",
    "        print (\"The user has won\")\n",
    "    elif user == \"paper\" and pc == \"scissors\":\n",
    "        print (\"The user has lost\")\n",
    "    elif user == \"paper\" and pc == \"paper\":\n",
    "        print (\"Its a draw\")\n",
    "        \n",
    "    \n",
    "if user == \"scissors\":\n",
    "    if pc == \"rock\":\n",
    "        print (\"The user has lost\")\n",
    "    elif user == \"scissors\" and pc == \"paper\":\n",
    "        print (\"The user has won\")\n",
    "    elif user == \"scissors\" and pc == \"scissors\":\n",
    "        print (\"Its a draw\")\n",
    "\n",
    "    "
   ]
  }
 ],
 "metadata": {
  "kernelspec": {
   "display_name": "Python 3",
   "language": "python",
   "name": "python3"
  },
  "language_info": {
   "codemirror_mode": {
    "name": "ipython",
    "version": 3
   },
   "file_extension": ".py",
   "mimetype": "text/x-python",
   "name": "python",
   "nbconvert_exporter": "python",
   "pygments_lexer": "ipython3",
   "version": "3.8.8"
  }
 },
 "nbformat": 4,
 "nbformat_minor": 5
}
